{
 "cells": [
  {
   "cell_type": "markdown",
   "metadata": {},
   "source": [
    "# Computer Vision Nanodegree\n",
    "\n",
    "## Project: Image Captioning\n",
    "\n",
    "---\n",
    "\n",
    "In this notebook, you will learn how to load and pre-process data from the [COCO dataset](http://cocodataset.org/#home). You will also design a CNN-RNN model for automatically generating image captions.\n",
    "\n",
    "Note that **any amendments that you make to this notebook will not be graded**.  However, you will use the instructions provided in **Step 3** and **Step 4** to implement your own CNN encoder and RNN decoder by making amendments to the **models.py** file provided as part of this project.  Your **models.py** file **will be graded**. \n",
    "\n",
    "Feel free to use the links below to navigate the notebook:\n",
    "- [Step 1](#step1): Explore the Data Loader\n",
    "- [Step 2](#step2): Use the Data Loader to Obtain Batches\n",
    "- [Step 3](#step3): Experiment with the CNN Encoder\n",
    "- [Step 4](#step4): Implement the RNN Decoder\n",
    "\n",
    "## Step 0: Update PATH and restart the Kernel"
   ]
  },
  {
   "cell_type": "code",
   "execution_count": 1,
   "metadata": {},
   "outputs": [],
   "source": [
    "# Update the path and restart the Kernel. \n",
    "import os\n",
    "os.environ['PATH'] = f\"{os.environ['PATH']}:/root/.local/bin\"\n",
    "os.environ['PATH'] = f\"{os.environ['PATH']}:/root/.torch/models\""
   ]
  },
  {
   "cell_type": "code",
   "execution_count": 3,
   "metadata": {
    "scrolled": true
   },
   "outputs": [
    {
     "name": "stdout",
     "output_type": "stream",
     "text": [
      "Collecting torch\n",
      "  Using cached torch-2.6.0-cp311-cp311-manylinux1_x86_64.whl.metadata (28 kB)\n",
      "Collecting torchvision\n",
      "  Using cached torchvision-0.21.0-cp311-cp311-manylinux1_x86_64.whl.metadata (6.1 kB)\n",
      "Requirement already satisfied: filelock in /home/vutruong/miniconda3/envs/myenv/lib/python3.11/site-packages (from torch) (3.13.1)\n",
      "Requirement already satisfied: typing-extensions>=4.10.0 in /home/vutruong/miniconda3/envs/myenv/lib/python3.11/site-packages (from torch) (4.12.2)\n",
      "Requirement already satisfied: networkx in /home/vutruong/miniconda3/envs/myenv/lib/python3.11/site-packages (from torch) (3.4.2)\n",
      "Requirement already satisfied: jinja2 in /home/vutruong/miniconda3/envs/myenv/lib/python3.11/site-packages (from torch) (3.1.5)\n",
      "Requirement already satisfied: fsspec in /home/vutruong/miniconda3/envs/myenv/lib/python3.11/site-packages (from torch) (2025.2.0)\n",
      "Requirement already satisfied: nvidia-cuda-nvrtc-cu12==12.4.127 in /home/vutruong/miniconda3/envs/myenv/lib/python3.11/site-packages (from torch) (12.4.127)\n",
      "Requirement already satisfied: nvidia-cuda-runtime-cu12==12.4.127 in /home/vutruong/miniconda3/envs/myenv/lib/python3.11/site-packages (from torch) (12.4.127)\n",
      "Requirement already satisfied: nvidia-cuda-cupti-cu12==12.4.127 in /home/vutruong/miniconda3/envs/myenv/lib/python3.11/site-packages (from torch) (12.4.127)\n",
      "Requirement already satisfied: nvidia-cudnn-cu12==9.1.0.70 in /home/vutruong/miniconda3/envs/myenv/lib/python3.11/site-packages (from torch) (9.1.0.70)\n",
      "Requirement already satisfied: nvidia-cublas-cu12==12.4.5.8 in /home/vutruong/miniconda3/envs/myenv/lib/python3.11/site-packages (from torch) (12.4.5.8)\n",
      "Requirement already satisfied: nvidia-cufft-cu12==11.2.1.3 in /home/vutruong/miniconda3/envs/myenv/lib/python3.11/site-packages (from torch) (11.2.1.3)\n",
      "Requirement already satisfied: nvidia-curand-cu12==10.3.5.147 in /home/vutruong/miniconda3/envs/myenv/lib/python3.11/site-packages (from torch) (10.3.5.147)\n",
      "Requirement already satisfied: nvidia-cusolver-cu12==11.6.1.9 in /home/vutruong/miniconda3/envs/myenv/lib/python3.11/site-packages (from torch) (11.6.1.9)\n",
      "Requirement already satisfied: nvidia-cusparse-cu12==12.3.1.170 in /home/vutruong/miniconda3/envs/myenv/lib/python3.11/site-packages (from torch) (12.3.1.170)\n",
      "Requirement already satisfied: nvidia-cusparselt-cu12==0.6.2 in /home/vutruong/miniconda3/envs/myenv/lib/python3.11/site-packages (from torch) (0.6.2)\n",
      "Requirement already satisfied: nvidia-nccl-cu12==2.21.5 in /home/vutruong/miniconda3/envs/myenv/lib/python3.11/site-packages (from torch) (2.21.5)\n",
      "Requirement already satisfied: nvidia-nvtx-cu12==12.4.127 in /home/vutruong/miniconda3/envs/myenv/lib/python3.11/site-packages (from torch) (12.4.127)\n",
      "Requirement already satisfied: nvidia-nvjitlink-cu12==12.4.127 in /home/vutruong/miniconda3/envs/myenv/lib/python3.11/site-packages (from torch) (12.4.127)\n",
      "Requirement already satisfied: triton==3.2.0 in /home/vutruong/miniconda3/envs/myenv/lib/python3.11/site-packages (from torch) (3.2.0)\n",
      "Requirement already satisfied: sympy==1.13.1 in /home/vutruong/miniconda3/envs/myenv/lib/python3.11/site-packages (from torch) (1.13.1)\n",
      "Requirement already satisfied: mpmath<1.4,>=1.1.0 in /home/vutruong/miniconda3/envs/myenv/lib/python3.11/site-packages (from sympy==1.13.1->torch) (1.3.0)\n",
      "Requirement already satisfied: numpy in /home/vutruong/miniconda3/envs/myenv/lib/python3.11/site-packages (from torchvision) (1.26.4)\n",
      "Requirement already satisfied: pillow!=8.3.*,>=5.3.0 in /home/vutruong/miniconda3/envs/myenv/lib/python3.11/site-packages (from torchvision) (11.1.0)\n",
      "Requirement already satisfied: MarkupSafe>=2.0 in /home/vutruong/miniconda3/envs/myenv/lib/python3.11/site-packages (from jinja2->torch) (3.0.2)\n",
      "Using cached torch-2.6.0-cp311-cp311-manylinux1_x86_64.whl (766.7 MB)\n",
      "Using cached torchvision-0.21.0-cp311-cp311-manylinux1_x86_64.whl (7.2 MB)\n",
      "Installing collected packages: torch, torchvision\n",
      "Successfully installed torch-2.6.0 torchvision-0.21.0\n",
      "2.6.0+cu124\n",
      "False\n"
     ]
    }
   ],
   "source": [
    "# Should return True\n",
    "import torch\n",
    "import torchvision\n",
    "from torchvision import extension \n",
    "print(torch.__version__)\n",
    "print(torch.cuda.is_available())"
   ]
  },
  {
   "cell_type": "code",
   "execution_count": null,
   "metadata": {},
   "outputs": [],
   "source": []
  },
  {
   "cell_type": "markdown",
   "metadata": {},
   "source": [
    "<a id='step1'></a>\n",
    "## Step 1: Explore the Data Loader\n",
    "\n",
    "We have already written a [data loader](http://pytorch.org/docs/master/data.html#torch.utils.data.DataLoader) that you can use to load the COCO dataset in batches. \n",
    "\n",
    "In the code cell below, you will initialize the data loader by using the `get_loader` function in **data_loader.py**.  \n",
    "\n",
    "> For this project, you are not permitted to change the **data_loader.py** file, which must be used as-is.\n",
    "\n",
    "The `get_loader` function takes as input a number of arguments that can be explored in **data_loader.py**.  Take the time to explore these arguments now by opening **data_loader.py** in a new window.  Most of the arguments must be left at their default values, and you are only allowed to amend the values of the arguments below:\n",
    "1. **`transform`** - an [image transform](http://pytorch.org/docs/master/torchvision/transforms.html) specifying how to pre-process the images and convert them to PyTorch tensors before using them as input to the CNN encoder.  For now, you are encouraged to keep the transform as provided in `transform_train`.  You will have the opportunity later to choose your own image transform to pre-process the COCO images.\n",
    "2. **`mode`** - one of `'train'` (loads the training data in batches) or `'test'` (for the test data). We will say that the data loader is in training or test mode, respectively.  While following the instructions in this notebook, please keep the data loader in training mode by setting `mode='train'`.\n",
    "3. **`batch_size`** - determines the batch size.  When training the model, this is number of image-caption pairs used to amend the model weights in each training step.\n",
    "4. **`vocab_threshold`** - the total number of times that a word must appear in the in the training captions before it is used as part of the vocabulary.  Words that have fewer than `vocab_threshold` occurrences in the training captions are considered unknown words. \n",
    "5. **`vocab_from_file`** - a Boolean that decides whether to load the vocabulary from file.  \n",
    "\n",
    "We will describe the `vocab_threshold` and `vocab_from_file` arguments in more detail soon.  For now, run the code cell below.  Be patient - it may take a couple of minutes to run!"
   ]
  },
  {
   "cell_type": "code",
   "execution_count": 4,
   "metadata": {},
   "outputs": [
    {
     "name": "stdout",
     "output_type": "stream",
     "text": [
      "Requirement already satisfied: nltk in /home/vutruong/miniconda3/envs/myenv/lib/python3.11/site-packages (3.9.1)\n",
      "Requirement already satisfied: click in /home/vutruong/miniconda3/envs/myenv/lib/python3.11/site-packages (from nltk) (8.1.8)\n",
      "Requirement already satisfied: joblib in /home/vutruong/miniconda3/envs/myenv/lib/python3.11/site-packages (from nltk) (1.4.2)\n",
      "Requirement already satisfied: regex>=2021.8.3 in /home/vutruong/miniconda3/envs/myenv/lib/python3.11/site-packages (from nltk) (2024.11.6)\n",
      "Requirement already satisfied: tqdm in /home/vutruong/miniconda3/envs/myenv/lib/python3.11/site-packages (from nltk) (4.67.1)\n"
     ]
    },
    {
     "name": "stderr",
     "output_type": "stream",
     "text": [
      "[nltk_data] Downloading package punkt_tab to\n",
      "[nltk_data]     /home/vutruong/nltk_data...\n",
      "[nltk_data]   Package punkt_tab is already up-to-date!\n"
     ]
    },
    {
     "name": "stdout",
     "output_type": "stream",
     "text": [
      "loading annotations into memory...\n",
      "Done (t=1.49s)\n",
      "creating index...\n",
      "index created!\n",
      "[0/591753] Tokenizing captions...\n",
      "[100000/591753] Tokenizing captions...\n",
      "[200000/591753] Tokenizing captions...\n",
      "[300000/591753] Tokenizing captions...\n",
      "[400000/591753] Tokenizing captions...\n",
      "[500000/591753] Tokenizing captions...\n",
      "loading annotations into memory...\n",
      "Done (t=0.78s)\n",
      "creating index...\n",
      "index created!\n",
      "Obtaining caption lengths for the subset...\n"
     ]
    },
    {
     "name": "stderr",
     "output_type": "stream",
     "text": [
      "100%|████████████████████████████████| 591753/591753 [00:37<00:00, 15822.64it/s]\n"
     ]
    }
   ],
   "source": [
    "import sys\n",
    "sys.path.append('/home/vutruong/Projects/cocoapi/cocoapi/PythonAPI')\n",
    "from pycocotools.coco import COCO\n",
    "!pip install nltk\n",
    "import nltk\n",
    "nltk.download('punkt_tab')\n",
    "from data_loader import get_loader\n",
    "from torchvision import transforms\n",
    "\n",
    "# Define a transform to pre-process the training images.\n",
    "transform_train = transforms.Compose([ \n",
    "    transforms.Resize(256),                          # smaller edge of image resized to 256\n",
    "    transforms.RandomCrop(224),                      # get 224x224 crop from random location\n",
    "    transforms.RandomHorizontalFlip(),               # horizontally flip image with probability=0.5\n",
    "    transforms.ToTensor(),                           # convert the PIL Image to a tensor\n",
    "    transforms.Normalize((0.485, 0.456, 0.406),      # normalize image for pre-trained model\n",
    "                         (0.229, 0.224, 0.225))])\n",
    "\n",
    "# Set the minimum word count threshold.\n",
    "vocab_threshold = 5\n",
    "\n",
    "# Specify the batch size.\n",
    "batch_size = 10\n",
    "\n",
    "# Obtain the data loader.\n",
    "data_loader = get_loader(transform=transform_train,\n",
    "                         mode='train',\n",
    "                         batch_size=batch_size,\n",
    "                         vocab_threshold=vocab_threshold,\n",
    "                         vocab_from_file=False,\n",
    "                         cocoapi_loc='/home/vutruong/Projects/cocoapi')"
   ]
  },
  {
   "cell_type": "markdown",
   "metadata": {},
   "source": [
    "When you ran the code cell above, the data loader was stored in the variable `data_loader`.  \n",
    "\n",
    "You can access the corresponding dataset as `data_loader.dataset`.  This dataset is an instance of the `CoCoDataset` class in **data_loader.py**.  If you are unfamiliar with data loaders and datasets, you are encouraged to review [this PyTorch tutorial](http://pytorch.org/tutorials/beginner/data_loading_tutorial.html).\n",
    "\n",
    "### Exploring the `__getitem__` Method\n",
    "\n",
    "The `__getitem__` method in the `CoCoDataset` class determines how an image-caption pair is pre-processed before being incorporated into a batch.  This is true for all `Dataset` classes in PyTorch; if this is unfamiliar to you, please review [the tutorial linked above](http://pytorch.org/tutorials/beginner/data_loading_tutorial.html). \n",
    "\n",
    "When the data loader is in training mode, this method begins by first obtaining the filename (`path`) of a training image and its corresponding caption (`caption`).\n",
    "\n",
    "#### Image Pre-Processing \n",
    "\n",
    "Image pre-processing is relatively straightforward (from the `__getitem__` method in the `CoCoDataset` class):\n",
    "```python\n",
    "# Convert image to tensor and pre-process using transform\n",
    "image = Image.open(os.path.join(self.img_folder, path)).convert('RGB')\n",
    "image = self.transform(image)\n",
    "```\n",
    "After loading the image in the training folder with name `path`, the image is pre-processed using the same transform (`transform_train`) that was supplied when instantiating the data loader.  \n",
    "\n",
    "#### Caption Pre-Processing \n",
    "\n",
    "The captions also need to be pre-processed and prepped for training. In this example, for generating captions, we are aiming to create a model that predicts the next token of a sentence from previous tokens, so we turn the caption associated with any image into a list of tokenized words, before casting it to a PyTorch tensor that we can use to train the network.\n",
    "\n",
    "To understand in more detail how COCO captions are pre-processed, we'll first need to take a look at the `vocab` instance variable of the `CoCoDataset` class.  The code snippet below is pulled from the `__init__` method of the `CoCoDataset` class:\n",
    "```python\n",
    "def __init__(self, transform, mode, batch_size, vocab_threshold, vocab_file, start_word, \n",
    "        end_word, unk_word, annotations_file, vocab_from_file, img_folder):\n",
    "        ...\n",
    "        self.vocab = Vocabulary(vocab_threshold, vocab_file, start_word,\n",
    "            end_word, unk_word, annotations_file, vocab_from_file)\n",
    "        ...\n",
    "```\n",
    "From the code snippet above, you can see that `data_loader.dataset.vocab` is an instance of the `Vocabulary` class from **vocabulary.py**.  Take the time now to verify this for yourself by looking at the full code in **data_loader.py**.  \n",
    "\n",
    "We use this instance to pre-process the COCO captions (from the `__getitem__` method in the `CoCoDataset` class):\n",
    "\n",
    "```python\n",
    "# Convert caption to tensor of word ids.\n",
    "tokens = nltk.tokenize.word_tokenize(str(caption).lower())   # line 1\n",
    "caption = []                                                 # line 2\n",
    "caption.append(self.vocab(self.vocab.start_word))            # line 3\n",
    "caption.extend([self.vocab(token) for token in tokens])      # line 4\n",
    "caption.append(self.vocab(self.vocab.end_word))              # line 5\n",
    "caption = torch.Tensor(caption).long()                       # line 6\n",
    "```\n",
    "\n",
    "As you will see soon, this code converts any string-valued caption to a list of integers, before casting it to a PyTorch tensor.  To see how this code works, we'll apply it to the sample caption in the next code cell."
   ]
  },
  {
   "cell_type": "code",
   "execution_count": 5,
   "metadata": {},
   "outputs": [],
   "source": [
    "sample_caption = 'A person doing a trick on a rail while riding a skateboard.'"
   ]
  },
  {
   "cell_type": "markdown",
   "metadata": {},
   "source": [
    "In **`line 1`** of the code snippet, every letter in the caption is converted to lowercase, and the [`nltk.tokenize.word_tokenize`](http://www.nltk.org/) function is used to obtain a list of string-valued tokens.  Run the next code cell to visualize the effect on `sample_caption`."
   ]
  },
  {
   "cell_type": "code",
   "execution_count": 6,
   "metadata": {},
   "outputs": [
    {
     "name": "stdout",
     "output_type": "stream",
     "text": [
      "['a', 'person', 'doing', 'a', 'trick', 'on', 'a', 'rail', 'while', 'riding', 'a', 'skateboard', '.']\n"
     ]
    }
   ],
   "source": [
    "import nltk\n",
    "\n",
    "sample_tokens = nltk.tokenize.word_tokenize(str(sample_caption).lower())\n",
    "print(sample_tokens)"
   ]
  },
  {
   "cell_type": "markdown",
   "metadata": {},
   "source": [
    "In **`line 2`** and **`line 3`** we initialize an empty list and append an integer to mark the start of a caption.  The [paper](https://arxiv.org/pdf/1411.4555.pdf) that you are encouraged to implement uses a special start word (and a special end word, which we'll examine below) to mark the beginning (and end) of a caption.\n",
    "\n",
    "This special start word (`\"<start>\"`) is decided when instantiating the data loader and is passed as a parameter (`start_word`).  You are **required** to keep this parameter at its default value (`start_word=\"<start>\"`).\n",
    "\n",
    "As you will see below, the integer `0` is always used to mark the start of a caption."
   ]
  },
  {
   "cell_type": "code",
   "execution_count": 7,
   "metadata": {},
   "outputs": [
    {
     "name": "stdout",
     "output_type": "stream",
     "text": [
      "Special start word: <start>\n",
      "[0]\n"
     ]
    }
   ],
   "source": [
    "sample_caption = []\n",
    "\n",
    "start_word = data_loader.dataset.vocab.start_word\n",
    "print('Special start word:', start_word)\n",
    "sample_caption.append(data_loader.dataset.vocab(start_word))\n",
    "print(sample_caption)"
   ]
  },
  {
   "cell_type": "markdown",
   "metadata": {},
   "source": [
    "In **`line 4`**, we continue the list by adding integers that correspond to each of the tokens in the caption."
   ]
  },
  {
   "cell_type": "code",
   "execution_count": 8,
   "metadata": {},
   "outputs": [
    {
     "name": "stdout",
     "output_type": "stream",
     "text": [
      "[0, 3, 145, 495, 3, 727, 49, 3, 681, 265, 106, 3, 147, 12]\n"
     ]
    }
   ],
   "source": [
    "sample_caption.extend([data_loader.dataset.vocab(token) for token in sample_tokens])\n",
    "print(sample_caption)"
   ]
  },
  {
   "cell_type": "markdown",
   "metadata": {},
   "source": [
    "In **`line 5`**, we append a final integer to mark the end of the caption.  \n",
    "\n",
    "Identical to the case of the special start word (above), the special end word (`\"<end>\"`) is decided when instantiating the data loader and is passed as a parameter (`end_word`).  You are **required** to keep this parameter at its default value (`end_word=\"<end>\"`).\n",
    "\n",
    "As you will see below, the integer `1` is always used to  mark the end of a caption."
   ]
  },
  {
   "cell_type": "code",
   "execution_count": 9,
   "metadata": {},
   "outputs": [
    {
     "name": "stdout",
     "output_type": "stream",
     "text": [
      "Special end word: <end>\n",
      "[0, 3, 145, 495, 3, 727, 49, 3, 681, 265, 106, 3, 147, 12, 1]\n"
     ]
    }
   ],
   "source": [
    "end_word = data_loader.dataset.vocab.end_word\n",
    "print('Special end word:', end_word)\n",
    "\n",
    "sample_caption.append(data_loader.dataset.vocab(end_word))\n",
    "print(sample_caption)"
   ]
  },
  {
   "cell_type": "markdown",
   "metadata": {},
   "source": [
    "Finally, in **`line 6`**, we convert the list of integers to a PyTorch tensor and cast it to [long type](http://pytorch.org/docs/master/tensors.html#torch.Tensor.long).  You can read more about the different types of PyTorch tensors on the [website](http://pytorch.org/docs/master/tensors.html)."
   ]
  },
  {
   "cell_type": "code",
   "execution_count": 10,
   "metadata": {},
   "outputs": [
    {
     "name": "stdout",
     "output_type": "stream",
     "text": [
      "tensor([  0,   3, 145, 495,   3, 727,  49,   3, 681, 265, 106,   3, 147,  12,\n",
      "          1])\n"
     ]
    }
   ],
   "source": [
    "import torch\n",
    "\n",
    "sample_caption = torch.Tensor(sample_caption).long()\n",
    "print(sample_caption)"
   ]
  },
  {
   "cell_type": "markdown",
   "metadata": {},
   "source": [
    "And that's it!  In summary, any caption is converted to a list of tokens, with _special_ start and end tokens marking the beginning and end of the sentence:\n",
    "```\n",
    "[<start>, 'a', 'person', 'doing', 'a', 'trick', 'while', 'riding', 'a', 'skateboard', '.', <end>]\n",
    "```\n",
    "This list of tokens is then turned into a list of integers, where every distinct word in the vocabulary has an associated integer value:\n",
    "```\n",
    "[0, 3, 98, 754, 3, 396, 207, 139, 3, 753, 18, 1]\n",
    "```\n",
    "Finally, this list is converted to a PyTorch tensor.  All of the captions in the COCO dataset are pre-processed using this same procedure from **`lines 1-6`** described above.  \n",
    "\n",
    "As you saw, in order to convert a token to its corresponding integer, we call `data_loader.dataset.vocab` as a function.  The details of how this call works can be explored in the `__call__` method in the `Vocabulary` class in **vocabulary.py**.  \n",
    "\n",
    "```python\n",
    "def __call__(self, word):\n",
    "    if not word in self.word2idx:\n",
    "        return self.word2idx[self.unk_word]\n",
    "    return self.word2idx[word]\n",
    "```\n",
    "\n",
    "The `word2idx` instance variable is a Python [dictionary](https://docs.python.org/3/tutorial/datastructures.html#dictionaries) that is indexed by string-valued keys (mostly tokens obtained from training captions).  For each key, the corresponding value is the integer that the token is mapped to in the pre-processing step.\n",
    "\n",
    "Use the code cell below to view a subset of this dictionary."
   ]
  },
  {
   "cell_type": "code",
   "execution_count": 11,
   "metadata": {},
   "outputs": [
    {
     "data": {
      "text/plain": [
       "{'<start>': 0,\n",
       " '<end>': 1,\n",
       " '<unk>': 2,\n",
       " 'a': 3,\n",
       " 'bicycle': 4,\n",
       " 'replica': 5,\n",
       " 'with': 6,\n",
       " 'clock': 7,\n",
       " 'as': 8,\n",
       " 'the': 9}"
      ]
     },
     "execution_count": 11,
     "metadata": {},
     "output_type": "execute_result"
    }
   ],
   "source": [
    "# Preview the word2idx dictionary.\n",
    "dict(list(data_loader.dataset.vocab.word2idx.items())[:10])"
   ]
  },
  {
   "cell_type": "markdown",
   "metadata": {},
   "source": [
    "We also print the total number of keys."
   ]
  },
  {
   "cell_type": "code",
   "execution_count": 12,
   "metadata": {},
   "outputs": [
    {
     "name": "stdout",
     "output_type": "stream",
     "text": [
      "Total number of tokens in vocabulary: 10321\n"
     ]
    }
   ],
   "source": [
    "# Print the total number of keys in the word2idx dictionary.\n",
    "print('Total number of tokens in vocabulary:', len(data_loader.dataset.vocab))"
   ]
  },
  {
   "cell_type": "markdown",
   "metadata": {},
   "source": [
    "As you will see if you examine the code in **vocabulary.py**, the `word2idx` dictionary is created by looping over the captions in the training dataset.  If a token appears no less than `vocab_threshold` times in the training set, then it is added as a key to the dictionary and assigned a corresponding unique integer.  You will have the option later to amend the `vocab_threshold` argument when instantiating your data loader.  Note that in general, **smaller** values for `vocab_threshold` yield a **larger** number of tokens in the vocabulary.  You are encouraged to check this for yourself in the next code cell by decreasing the value of `vocab_threshold` before creating a new data loader.  "
   ]
  },
  {
   "cell_type": "code",
   "execution_count": 13,
   "metadata": {},
   "outputs": [
    {
     "name": "stdout",
     "output_type": "stream",
     "text": [
      "loading annotations into memory...\n",
      "Done (t=0.77s)\n",
      "creating index...\n",
      "index created!\n",
      "[0/591753] Tokenizing captions...\n",
      "[100000/591753] Tokenizing captions...\n",
      "[200000/591753] Tokenizing captions...\n",
      "[300000/591753] Tokenizing captions...\n",
      "[400000/591753] Tokenizing captions...\n",
      "[500000/591753] Tokenizing captions...\n",
      "loading annotations into memory...\n",
      "Done (t=0.73s)\n",
      "creating index...\n",
      "index created!\n",
      "Obtaining caption lengths for the subset...\n"
     ]
    },
    {
     "name": "stderr",
     "output_type": "stream",
     "text": [
      "100%|████████████████████████████████| 591753/591753 [00:36<00:00, 16320.27it/s]\n"
     ]
    }
   ],
   "source": [
    "# Modify the minimum word count threshold.\n",
    "vocab_threshold = 4\n",
    "\n",
    "# Obtain the data loader.\n",
    "data_loader = get_loader(transform=transform_train,\n",
    "                         mode='train',\n",
    "                         batch_size=batch_size,\n",
    "                         vocab_threshold=vocab_threshold,\n",
    "                         vocab_from_file=False,\n",
    "                         cocoapi_loc='/home/vutruong/Projects/cocoapi')"
   ]
  },
  {
   "cell_type": "code",
   "execution_count": 14,
   "metadata": {},
   "outputs": [
    {
     "name": "stdout",
     "output_type": "stream",
     "text": [
      "Total number of tokens in vocabulary: 11543\n"
     ]
    }
   ],
   "source": [
    "# Print the total number of keys in the word2idx dictionary.\n",
    "print('Total number of tokens in vocabulary:', len(data_loader.dataset.vocab))"
   ]
  },
  {
   "cell_type": "markdown",
   "metadata": {},
   "source": [
    "There are also a few special keys in the `word2idx` dictionary.  You are already familiar with the special start word (`\"<start>\"`) and special end word (`\"<end>\"`).  There is one more special token, corresponding to unknown words (`\"<unk>\"`).  All tokens that don't appear anywhere in the `word2idx` dictionary are considered unknown words.  In the pre-processing step, any unknown tokens are mapped to the integer `2`."
   ]
  },
  {
   "cell_type": "code",
   "execution_count": 15,
   "metadata": {},
   "outputs": [
    {
     "name": "stdout",
     "output_type": "stream",
     "text": [
      "Special unknown word: <unk>\n",
      "All unknown words are mapped to this integer: 2\n"
     ]
    }
   ],
   "source": [
    "unk_word = data_loader.dataset.vocab.unk_word\n",
    "print('Special unknown word:', unk_word)\n",
    "\n",
    "print('All unknown words are mapped to this integer:', data_loader.dataset.vocab(unk_word))"
   ]
  },
  {
   "cell_type": "markdown",
   "metadata": {},
   "source": [
    "Check this for yourself below, by pre-processing the provided nonsense words that never appear in the training captions. "
   ]
  },
  {
   "cell_type": "code",
   "execution_count": 16,
   "metadata": {},
   "outputs": [
    {
     "name": "stdout",
     "output_type": "stream",
     "text": [
      "2\n",
      "2\n"
     ]
    }
   ],
   "source": [
    "print(data_loader.dataset.vocab('jfkafejw'))\n",
    "print(data_loader.dataset.vocab('ieowoqjf'))"
   ]
  },
  {
   "cell_type": "markdown",
   "metadata": {},
   "source": [
    "The final thing to mention is the `vocab_from_file` argument that is supplied when creating a data loader.  To understand this argument, note that when you create a new data loader, the vocabulary (`data_loader.dataset.vocab`) is saved as a [pickle](https://docs.python.org/3/library/pickle.html) file in the project folder, with filename `vocab.pkl`.\n",
    "\n",
    "If you are still tweaking the value of the `vocab_threshold` argument, you **must** set `vocab_from_file=False` to have your changes take effect.  \n",
    "\n",
    "But once you are happy with the value that you have chosen for the `vocab_threshold` argument, you need only run the data loader *one more time* with your chosen `vocab_threshold` to save the new vocabulary to file.  Then, you can henceforth set `vocab_from_file=True` to load the vocabulary from file and speed the instantiation of the data loader.  Note that building the vocabulary from scratch is the most time-consuming part of instantiating the data loader, and so you are strongly encouraged to set `vocab_from_file=True` as soon as you are able.\n",
    "\n",
    "Note that if `vocab_from_file=True`, then any supplied argument for `vocab_threshold` when instantiating the data loader is completely ignored."
   ]
  },
  {
   "cell_type": "code",
   "execution_count": 17,
   "metadata": {},
   "outputs": [
    {
     "name": "stdout",
     "output_type": "stream",
     "text": [
      "Vocabulary successfully loaded from vocab.pkl file!\n",
      "loading annotations into memory...\n",
      "Done (t=0.74s)\n",
      "creating index...\n",
      "index created!\n",
      "Obtaining caption lengths for the subset...\n"
     ]
    },
    {
     "name": "stderr",
     "output_type": "stream",
     "text": [
      "100%|████████████████████████████████| 591753/591753 [00:37<00:00, 15882.44it/s]\n"
     ]
    }
   ],
   "source": [
    "# Obtain the data loader (from file). Note that it runs much faster than before!\n",
    "data_loader = get_loader(transform=transform_train,\n",
    "                         mode='train',\n",
    "                         batch_size=batch_size,\n",
    "                         vocab_from_file=True,\n",
    "                         cocoapi_loc='/home/vutruong/Projects/cocoapi')"
   ]
  },
  {
   "cell_type": "markdown",
   "metadata": {},
   "source": [
    "In the next section, you will learn how to use the data loader to obtain batches of training data."
   ]
  },
  {
   "cell_type": "markdown",
   "metadata": {},
   "source": [
    "<a id='step2'></a>\n",
    "## Step 2: Use the Data Loader to Obtain Batches\n",
    "\n",
    "The captions in the dataset vary greatly in length.  You can see this by examining `data_loader.dataset.caption_lengths`, a Python list with one entry for each training caption (where the value stores the length of the corresponding caption).  \n",
    "\n",
    "In the code cell below, we use this list to print the total number of captions in the training data with each length.  As you will see below, the majority of captions have length 10.  Likewise, very short and very long captions are quite rare.  "
   ]
  },
  {
   "cell_type": "code",
   "execution_count": 18,
   "metadata": {},
   "outputs": [
    {
     "name": "stdout",
     "output_type": "stream",
     "text": [
      "value: 10 --- count: 123316\n",
      "value: 11 --- count: 114543\n",
      "value:  9 --- count: 102606\n",
      "value: 12 --- count: 82271\n",
      "value: 13 --- count: 53723\n",
      "value: 14 --- count: 31924\n",
      "value:  8 --- count: 29696\n",
      "value: 15 --- count: 18511\n",
      "value: 16 --- count: 11022\n",
      "value: 17 --- count:  6928\n",
      "value: 18 --- count:  4382\n",
      "value: 19 --- count:  2890\n",
      "value:  7 --- count:  2297\n",
      "value: 20 --- count:  2047\n",
      "value: 21 --- count:  1443\n",
      "value: 22 --- count:   977\n",
      "value: 23 --- count:   747\n",
      "value: 24 --- count:   563\n",
      "value: 25 --- count:   390\n",
      "value: 26 --- count:   287\n",
      "value: 27 --- count:   212\n",
      "value: 28 --- count:   162\n",
      "value: 29 --- count:   124\n",
      "value: 30 --- count:    92\n",
      "value: 31 --- count:    80\n",
      "value: 32 --- count:    61\n",
      "value: 34 --- count:    51\n",
      "value: 33 --- count:    45\n",
      "value: 37 --- count:    43\n",
      "value: 35 --- count:    42\n",
      "value: 36 --- count:    32\n",
      "value: 38 --- count:    27\n",
      "value: 39 --- count:    25\n",
      "value: 43 --- count:    23\n",
      "value: 44 --- count:    21\n",
      "value: 40 --- count:    18\n",
      "value: 45 --- count:    16\n",
      "value: 46 --- count:    15\n",
      "value: 48 --- count:    15\n",
      "value: 47 --- count:    12\n",
      "value: 42 --- count:    12\n",
      "value: 49 --- count:    10\n",
      "value: 41 --- count:     9\n",
      "value: 51 --- count:     9\n",
      "value: 50 --- count:     8\n",
      "value: 52 --- count:     7\n",
      "value: 53 --- count:     5\n",
      "value:  6 --- count:     5\n",
      "value: 55 --- count:     3\n",
      "value: 54 --- count:     3\n",
      "value: 56 --- count:     2\n",
      "value: 57 --- count:     1\n"
     ]
    }
   ],
   "source": [
    "from collections import Counter\n",
    "\n",
    "# Tally the total number of training captions with each length.\n",
    "counter = Counter(data_loader.dataset.caption_lengths)\n",
    "lengths = sorted(counter.items(), key=lambda pair: pair[1], reverse=True)\n",
    "for value, count in lengths:\n",
    "    print('value: %2d --- count: %5d' % (value, count))"
   ]
  },
  {
   "cell_type": "markdown",
   "metadata": {},
   "source": [
    "To generate batches of training data, we begin by first sampling a caption length (where the probability that any length is drawn is proportional to the number of captions with that length in the dataset).  Then, we retrieve a batch of size `batch_size` of image-caption pairs, where all captions have the sampled length.  This approach for assembling batches matches the procedure in [this paper](https://arxiv.org/pdf/1502.03044.pdf) and has been shown to be computationally efficient without degrading performance.\n",
    "\n",
    "Run the code cell below to generate a batch.  The `get_train_indices` method in the `CoCoDataset` class first samples a caption length, and then samples `batch_size` indices corresponding to training data points with captions of that length.  These indices are stored below in `indices`.\n",
    "\n",
    "These indices are supplied to the data loader, which then is used to retrieve the corresponding data points.  The pre-processed images and captions in the batch are stored in `images` and `captions`."
   ]
  },
  {
   "cell_type": "code",
   "execution_count": 20,
   "metadata": {},
   "outputs": [
    {
     "name": "stdout",
     "output_type": "stream",
     "text": [
      "sampled indices: [371468, 62716, 516315, 224225, 461247, 210924, 224827, 378954, 305333, 135880]\n",
      "images.shape: torch.Size([10, 3, 224, 224])\n",
      "captions.shape: torch.Size([10, 16])\n",
      "images: tensor([[[[-1.6384, -1.6213, -1.6213,  ..., -0.0801, -0.0972, -0.0972],\n",
      "          [-1.6213, -1.6384, -1.6042,  ...,  0.7077,  0.6734,  0.6392],\n",
      "          [-1.5870, -1.6213, -1.6042,  ...,  1.1358,  1.1015,  1.1015],\n",
      "          ...,\n",
      "          [-2.0494, -2.0323, -2.0152,  ..., -1.7925, -1.6898, -1.5870],\n",
      "          [-2.0323, -2.0323, -2.0494,  ..., -1.6898, -1.6898, -1.5357],\n",
      "          [-2.0323, -2.0665, -2.0494,  ..., -1.6727, -1.5699, -1.4843]],\n",
      "\n",
      "         [[-1.8256, -1.8081, -1.8081,  ..., -0.7752, -0.7927, -0.7752],\n",
      "          [-1.8256, -1.8431, -1.8081,  ...,  0.2577,  0.2227,  0.2227],\n",
      "          [-1.7906, -1.8256, -1.8081,  ...,  0.8880,  0.8704,  0.8704],\n",
      "          ...,\n",
      "          [-2.0182, -2.0182, -2.0007,  ..., -1.8256, -1.8431, -1.7731],\n",
      "          [-2.0182, -2.0182, -2.0182,  ..., -1.8606, -1.8081, -1.7381],\n",
      "          [-2.0182, -2.0182, -2.0182,  ..., -1.8256, -1.7731, -1.7206]],\n",
      "\n",
      "         [[-1.7522, -1.7173, -1.7696,  ..., -1.3339, -1.4036, -1.4036],\n",
      "          [-1.7696, -1.7522, -1.7522,  ..., -0.4101, -0.4973, -0.5321],\n",
      "          [-1.7347, -1.7522, -1.7173,  ...,  0.0605, -0.0092, -0.0615],\n",
      "          ...,\n",
      "          [-1.8044, -1.8044, -1.8044,  ..., -1.6999, -1.7173, -1.6824],\n",
      "          [-1.8044, -1.8044, -1.8044,  ..., -1.7173, -1.7173, -1.6650],\n",
      "          [-1.8044, -1.8044, -1.7870,  ..., -1.6999, -1.6999, -1.6127]]],\n",
      "\n",
      "\n",
      "        [[[-0.3198, -0.3369, -0.3369,  ..., -1.1247, -1.0904, -1.0904],\n",
      "          [-0.3027, -0.3198, -0.3027,  ..., -1.0904, -1.0733, -1.0733],\n",
      "          [-0.3027, -0.2856, -0.2856,  ..., -1.0904, -1.0733, -1.0733],\n",
      "          ...,\n",
      "          [-1.9809, -1.9980, -1.9809,  ..., -1.4843, -1.4672, -1.5014],\n",
      "          [-1.9809, -2.0152, -1.9980,  ..., -1.5528, -1.5014, -1.5014],\n",
      "          [-1.9809, -1.9980, -2.0152,  ..., -1.6555, -1.5870, -1.5357]],\n",
      "\n",
      "         [[-0.2850, -0.3025, -0.3025,  ..., -1.0728, -1.0553, -1.0553],\n",
      "          [-0.2675, -0.2850, -0.2675,  ..., -1.0378, -1.0378, -1.0378],\n",
      "          [-0.2500, -0.2500, -0.2500,  ..., -1.0378, -1.0378, -1.0378],\n",
      "          ...,\n",
      "          [-1.8606, -1.8782, -1.8606,  ..., -1.3529, -1.3354, -1.3529],\n",
      "          [-1.8606, -1.8957, -1.8782,  ..., -1.4230, -1.3704, -1.3704],\n",
      "          [-1.8606, -1.8782, -1.8957,  ..., -1.5105, -1.4580, -1.4230]],\n",
      "\n",
      "         [[-1.0201, -1.0376, -1.0376,  ..., -1.5081, -1.4733, -1.4559],\n",
      "          [-1.0027, -1.0201, -1.0027,  ..., -1.4733, -1.4559, -1.4384],\n",
      "          [-0.9853, -0.9853, -0.9853,  ..., -1.4733, -1.4559, -1.4559],\n",
      "          ...,\n",
      "          [-1.6824, -1.6999, -1.6824,  ..., -1.5081, -1.4907, -1.5430],\n",
      "          [-1.6824, -1.7173, -1.6999,  ..., -1.5604, -1.5081, -1.5256],\n",
      "          [-1.6824, -1.6999, -1.7173,  ..., -1.5604, -1.4907, -1.4907]]],\n",
      "\n",
      "\n",
      "        [[[ 1.2899,  1.2899,  1.3070,  ...,  0.7248,  0.0912,  0.2624],\n",
      "          [ 1.3413,  1.3413,  1.3584,  ...,  0.7077,  0.0912,  0.3138],\n",
      "          [ 1.3070,  1.2899,  1.3242,  ...,  0.7419,  0.0912,  0.3994],\n",
      "          ...,\n",
      "          [ 0.4851,  0.6734,  0.6734,  ...,  0.8447,  0.9817,  1.0673],\n",
      "          [ 0.5364,  0.7077,  0.7077,  ...,  0.9817,  1.1529,  1.2043],\n",
      "          [ 0.5878,  0.7419,  0.7591,  ...,  0.7762,  0.9132,  1.1187]],\n",
      "\n",
      "         [[ 1.5182,  1.5357,  1.5532,  ...,  0.7829,  0.2402,  0.5728],\n",
      "          [ 1.5182,  1.5532,  1.5707,  ...,  0.7654,  0.2577,  0.6254],\n",
      "          [ 1.5357,  1.5532,  1.5707,  ...,  0.8004,  0.2227,  0.6604],\n",
      "          ...,\n",
      "          [ 0.1527,  0.3803,  0.3978,  ...,  1.0630,  1.1506,  1.1856],\n",
      "          [ 0.2052,  0.4153,  0.4328,  ...,  1.2381,  1.3957,  1.4307],\n",
      "          [ 0.2577,  0.4328,  0.4678,  ...,  0.9405,  1.1331,  1.3606]],\n",
      "\n",
      "         [[-1.4210, -1.4036, -1.4210,  ..., -1.7347, -1.5953,  0.3742],\n",
      "          [-1.4036, -1.3861, -1.3687,  ..., -1.7522, -1.5779,  0.4265],\n",
      "          [-1.2816, -1.2467, -1.2119,  ..., -1.7347, -1.5953,  0.4788],\n",
      "          ...,\n",
      "          [-0.1138,  0.1476,  0.1302,  ...,  1.2457,  1.3328,  1.3502],\n",
      "          [-0.0790,  0.1825,  0.1476,  ...,  1.3328,  1.5071,  1.5420],\n",
      "          [-0.0092,  0.1825,  0.1651,  ...,  1.3328,  1.5245,  1.7685]]],\n",
      "\n",
      "\n",
      "        ...,\n",
      "\n",
      "\n",
      "        [[[ 0.8618,  0.3138,  0.3994,  ...,  0.1426, -0.5938, -1.1589],\n",
      "          [ 0.7077,  0.7762,  0.8961,  ..., -0.5596, -0.7822, -1.1760],\n",
      "          [ 0.7762,  0.8618,  0.9303,  ..., -0.0801, -0.5424, -1.1932],\n",
      "          ...,\n",
      "          [ 0.1597,  0.1768,  0.1939,  ...,  0.2796,  0.2624,  0.2967],\n",
      "          [ 0.1426,  0.1768,  0.1768,  ...,  0.2111,  0.2111,  0.2796],\n",
      "          [ 0.0912,  0.0912,  0.1083,  ...,  0.2111,  0.2453,  0.2967]],\n",
      "\n",
      "         [[ 0.9755,  0.1176,  0.0301,  ...,  0.5728, -0.0399, -0.9853],\n",
      "          [ 0.2927,  0.1702,  0.2752,  ..., -0.0399, -0.2150, -0.9678],\n",
      "          [ 0.2227,  0.2927,  0.3627,  ...,  0.1527, -0.3375, -1.0378],\n",
      "          ...,\n",
      "          [ 0.3277,  0.3452,  0.3452,  ...,  0.4678,  0.4503,  0.4853],\n",
      "          [ 0.2927,  0.3277,  0.3452,  ...,  0.4153,  0.4153,  0.4678],\n",
      "          [ 0.2577,  0.2577,  0.2752,  ...,  0.4328,  0.4503,  0.4678]],\n",
      "\n",
      "         [[ 1.2108,  0.3393,  0.0605,  ...,  1.0888,  0.4962, -0.7761],\n",
      "          [ 0.3568,  0.1651,  0.2522,  ...,  0.3742,  0.1302, -0.7761],\n",
      "          [ 0.2173,  0.1651,  0.3393,  ...,  0.3219, -0.1835, -0.8284],\n",
      "          ...,\n",
      "          [ 0.4614,  0.4788,  0.5136,  ...,  0.6705,  0.6531,  0.6879],\n",
      "          [ 0.4265,  0.4788,  0.5136,  ...,  0.5834,  0.6182,  0.6705],\n",
      "          [ 0.4265,  0.4439,  0.4788,  ...,  0.5834,  0.6531,  0.6705]]],\n",
      "\n",
      "\n",
      "        [[[-0.4911, -1.2445, -1.7240,  ..., -0.0629,  0.0912,  0.1254],\n",
      "          [-0.5082, -1.4158, -1.7754,  ...,  0.4337,  0.4508,  0.3994],\n",
      "          [-1.1932, -0.6965, -1.7412,  ...,  0.5878,  0.5707,  0.4508],\n",
      "          ...,\n",
      "          [ 0.7933,  0.6734,  0.6906,  ...,  0.7419,  0.7419,  0.7248],\n",
      "          [ 0.6563,  0.7077,  0.6906,  ...,  0.8104,  0.7419,  0.7419],\n",
      "          [ 0.7762,  0.7077,  0.8961,  ...,  0.7248,  0.7248,  0.7419]],\n",
      "\n",
      "         [[-0.4426, -1.2654, -1.7731,  ..., -0.2500, -0.1625, -0.0749],\n",
      "          [-0.4601, -1.4055, -1.7556,  ...,  0.2927,  0.2577,  0.1702],\n",
      "          [-1.1078, -0.6001, -1.6506,  ...,  0.4853,  0.4503,  0.2052],\n",
      "          ...,\n",
      "          [ 0.5903,  0.4853,  0.5028,  ...,  0.4853,  0.5028,  0.4853],\n",
      "          [ 0.4678,  0.5203,  0.4853,  ...,  0.5553,  0.5028,  0.5028],\n",
      "          [ 0.5378,  0.4853,  0.6954,  ...,  0.4328,  0.4503,  0.4853]],\n",
      "\n",
      "         [[-0.2881, -1.0376, -1.5604,  ..., -0.4798, -0.4624, -0.3578],\n",
      "          [-0.2707, -1.1247, -1.5953,  ...,  0.0431, -0.0441, -0.1661],\n",
      "          [-0.8807, -0.3055, -1.4036,  ...,  0.2696,  0.1999, -0.0964],\n",
      "          ...,\n",
      "          [ 0.6008,  0.4439,  0.4788,  ...,  0.4962,  0.4962,  0.4788],\n",
      "          [ 0.4614,  0.4788,  0.4788,  ...,  0.5485,  0.4962,  0.4962],\n",
      "          [ 0.5311,  0.4614,  0.6879,  ...,  0.4439,  0.4614,  0.4788]]],\n",
      "\n",
      "\n",
      "        [[[-0.0972, -0.1486, -0.1657,  ..., -0.6794, -0.7479, -1.0390],\n",
      "          [-0.1657, -0.1657, -0.1657,  ..., -0.5424, -0.7308, -0.7650],\n",
      "          [-0.4226, -0.4739, -0.5082,  ..., -0.3541, -0.3712, -0.3883],\n",
      "          ...,\n",
      "          [ 0.1254,  0.1768,  0.1939,  ..., -0.3198, -0.3883, -0.4054],\n",
      "          [ 0.2282,  0.1939, -0.0287,  ..., -0.4568, -0.3712, -0.3027],\n",
      "          [ 0.2967,  0.2453,  0.1768,  ..., -0.3027, -0.2171, -0.0972]],\n",
      "\n",
      "         [[-0.6352, -0.7052, -0.7402,  ..., -0.3550, -0.3375, -0.6176],\n",
      "          [-0.6352, -0.6877, -0.7227,  ..., -0.3200, -0.5651, -0.6352],\n",
      "          [-0.9503, -0.9678, -1.0028,  ..., -0.2325, -0.2500, -0.2500],\n",
      "          ...,\n",
      "          [ 0.2752,  0.3102,  0.2752,  ..., -0.2500, -0.2325, -0.1975],\n",
      "          [ 0.3978,  0.4328,  0.1527,  ..., -0.3375, -0.1625, -0.0749],\n",
      "          [ 0.4328,  0.3452,  0.3277,  ..., -0.1099, -0.0749,  0.0476]],\n",
      "\n",
      "         [[-0.3927, -0.4624, -0.5495,  ..., -0.6367, -0.7587, -1.0027],\n",
      "          [-0.4275, -0.4798, -0.5495,  ..., -0.4101, -0.5844, -0.5495],\n",
      "          [-0.7413, -0.8110, -0.8458,  ..., -0.0441, -0.0267, -0.0267],\n",
      "          ...,\n",
      "          [ 0.5311,  0.5311,  0.5834,  ...,  0.0256,  0.0431,  0.0431],\n",
      "          [ 0.6879,  0.6879,  0.4265,  ..., -0.0267,  0.1128,  0.1999],\n",
      "          [ 0.7054,  0.6531,  0.6182,  ...,  0.1825,  0.2173,  0.3393]]]])\n",
      "captions: tensor([[   0,    3,   46,  144,  632,    6,    3,  690,  530, 1134,   40,   10,\n",
      "          125,  239,   12,    1],\n",
      "        [   0,    3,  114,    6,    3, 1028,   16, 1356,   50,   40,    9, 2944,\n",
      "          125,  862,   12,    1],\n",
      "        [   0,    3,  196,  117,  261,    3,  132,  148,    3,  812,  198,  418,\n",
      "           23,  234, 3154,    1],\n",
      "        [   0,    3,  446,  223, 3443,    3, 7724,  846,   98,   23,   62, 1452,\n",
      "            6, 3783,   12,    1],\n",
      "        [   0,    3,  147,   36,  117,   50,    3,  155,    6,    3, 3194, 6856,\n",
      "           23,  239,   12,    1],\n",
      "        [   0,    3,  114,  117,   50,    3, 1110,    6,    3,  304,   40,    3,\n",
      "          525,   13,   12,    1],\n",
      "        [   0,    3,  525,   13,    6,    3,  421,  631,   98,   23,    3,  415,\n",
      "          125, 1156,   12,    1],\n",
      "        [   0,    3,  114,  903,    3,   14, 1105,   16, 1026,   36, 4993,   50,\n",
      "            3,  149,   12,    1],\n",
      "        [   0,    3,  221,  224, 2123, 2937,  261, 4629,    8,    9, 2522, 2001,\n",
      "          387,  241,  276,    1],\n",
      "        [   0,  105,  728,   68,  984,  108,    9,  467,  125,    9,  109,   40,\n",
      "         8908, 4421,   12,    1]])\n"
     ]
    }
   ],
   "source": [
    "import numpy as np\n",
    "import torch.utils.data as data\n",
    "\n",
    "# Randomly sample a caption length, and sample indices with that length.\n",
    "indices = data_loader.dataset.get_train_indices()\n",
    "print('sampled indices:', indices)\n",
    "\n",
    "# Create and assign a batch sampler to retrieve a batch with the sampled indices.\n",
    "new_sampler = data.sampler.SubsetRandomSampler(indices=indices)\n",
    "data_loader.batch_sampler.sampler = new_sampler\n",
    "    \n",
    "# Obtain the batch.\n",
    "images, captions = next(iter(data_loader))\n",
    "    \n",
    "print('images.shape:', images.shape)\n",
    "print('captions.shape:', captions.shape)\n",
    "\n",
    "# (Optional) Uncomment the lines of code below to print the pre-processed images and captions.\n",
    "print('images:', images)\n",
    "print('captions:', captions)"
   ]
  },
  {
   "cell_type": "markdown",
   "metadata": {},
   "source": [
    "Each time you run the code cell above, a different caption length is sampled, and a different batch of training data is returned.  Run the code cell multiple times to check this out!\n",
    "\n",
    "You will train your model in the next notebook in this sequence (**2_Training.ipynb**). This code for generating training batches will be provided to you.\n",
    "\n",
    "> Before moving to the next notebook in the sequence (**2_Training.ipynb**), you are strongly encouraged to take the time to become very familiar with the code in  **data_loader.py** and **vocabulary.py**.  **Step 1** and **Step 2** of this notebook are designed to help facilitate a basic introduction and guide your understanding.  However, our description is not exhaustive, and it is up to you (as part of the project) to learn how to best utilize these files to complete the project.  __You should NOT amend any of the code in either *data_loader.py* or *vocabulary.py*.__\n",
    "\n",
    "In the next steps, we focus on learning how to specify a CNN-RNN architecture in PyTorch, towards the goal of image captioning."
   ]
  },
  {
   "cell_type": "markdown",
   "metadata": {},
   "source": [
    "<a id='step3'></a>\n",
    "## Step 3: Experiment with the CNN Encoder\n",
    "\n",
    "Run the code cell below to import `EncoderCNN` and `DecoderRNN` from **model.py**. "
   ]
  },
  {
   "cell_type": "code",
   "execution_count": 21,
   "metadata": {},
   "outputs": [],
   "source": [
    "# Watch for any changes in model.py, and re-load it automatically.\n",
    "# % load_ext autoreload\n",
    "# % autoreload 2\n",
    "\n",
    "# Import EncoderCNN and DecoderRNN. \n",
    "from model import EncoderCNN, DecoderRNN"
   ]
  },
  {
   "cell_type": "markdown",
   "metadata": {},
   "source": [
    "In the next code cell we define a `device` that you will use move PyTorch tensors to GPU (if CUDA is available).  Run this code cell before continuing."
   ]
  },
  {
   "cell_type": "code",
   "execution_count": 22,
   "metadata": {},
   "outputs": [],
   "source": [
    "device = torch.device(\"cuda\" if torch.cuda.is_available() else \"cpu\")"
   ]
  },
  {
   "cell_type": "markdown",
   "metadata": {},
   "source": [
    "Run the code cell below to instantiate the CNN encoder in `encoder`.  \n",
    "\n",
    "The pre-processed images from the batch in **Step 2** of this notebook are then passed through the encoder, and the output is stored in `features`."
   ]
  },
  {
   "cell_type": "code",
   "execution_count": 23,
   "metadata": {},
   "outputs": [
    {
     "name": "stderr",
     "output_type": "stream",
     "text": [
      "/home/vutruong/miniconda3/envs/myenv/lib/python3.11/site-packages/torchvision/models/_utils.py:208: UserWarning: The parameter 'pretrained' is deprecated since 0.13 and may be removed in the future, please use 'weights' instead.\n",
      "  warnings.warn(\n",
      "/home/vutruong/miniconda3/envs/myenv/lib/python3.11/site-packages/torchvision/models/_utils.py:223: UserWarning: Arguments other than a weight enum or `None` for 'weights' are deprecated since 0.13 and may be removed in the future. The current behavior is equivalent to passing `weights=ResNet50_Weights.IMAGENET1K_V1`. You can also use `weights=ResNet50_Weights.DEFAULT` to get the most up-to-date weights.\n",
      "  warnings.warn(msg)\n",
      "Downloading: \"https://download.pytorch.org/models/resnet50-0676ba61.pth\" to /home/vutruong/.cache/torch/hub/checkpoints/resnet50-0676ba61.pth\n",
      "100%|██████████████████████████████████████| 97.8M/97.8M [00:06<00:00, 14.9MB/s]\n"
     ]
    },
    {
     "name": "stdout",
     "output_type": "stream",
     "text": [
      "type(features): <class 'torch.Tensor'>\n",
      "features.shape: torch.Size([10, 256])\n"
     ]
    }
   ],
   "source": [
    "# Specify the dimensionality of the image embedding.\n",
    "embed_size = 256\n",
    "\n",
    "#-#-#-# Do NOT modify the code below this line. #-#-#-#\n",
    "\n",
    "# Initialize the encoder. (Optional: Add additional arguments if necessary.)\n",
    "encoder = EncoderCNN(embed_size)\n",
    "\n",
    "# Move the encoder to GPU if CUDA is available.\n",
    "encoder.to(device)\n",
    "    \n",
    "# Move last batch of images (from Step 2) to GPU if CUDA is available.   \n",
    "images = images.to(device)\n",
    "\n",
    "# Pass the images through the encoder.\n",
    "features = encoder(images)\n",
    "\n",
    "print('type(features):', type(features))\n",
    "print('features.shape:', features.shape)\n",
    "\n",
    "# Check that your encoder satisfies some requirements of the project! :D\n",
    "assert type(features)==torch.Tensor, \"Encoder output needs to be a PyTorch Tensor.\" \n",
    "assert (features.shape[0]==batch_size) & (features.shape[1]==embed_size), \"The shape of the encoder output is incorrect.\""
   ]
  },
  {
   "cell_type": "markdown",
   "metadata": {},
   "source": [
    "The encoder that we provide to you uses the pre-trained ResNet-50 architecture (with the final fully-connected layer removed) to extract features from a batch of pre-processed images.  The output is then flattened to a vector, before being passed through a `Linear` layer to transform the feature vector to have the same size as the word embedding.\n",
    "\n",
    "![A diagram showing the first part of an image captioning model. An input image is transformed into an image tensor (224x224x3), which is then passed through a CNN to produce an image feature vector. This vector is further processed by a linear layer, embedding it into a feature vector with a specified embed size.](images/encoder.png)\n",
    "\n",
    "You are welcome (and encouraged) to amend the encoder in **model.py**, to experiment with other architectures.  In particular, consider using a [different pre-trained model architecture](http://pytorch.org/docs/master/torchvision/models.html).  You may also like to [add batch normalization](http://pytorch.org/docs/master/nn.html#normalization-layers).  \n",
    "\n",
    "> You are **not** required to change anything about the encoder.\n",
    "\n",
    "For this project, you **must** incorporate a pre-trained CNN into your encoder.  Your `EncoderCNN` class must take `embed_size` as an input argument, which will also correspond to the dimensionality of the input to the RNN decoder that you will implement in Step 4.  When you train your model in the next notebook in this sequence (**2_Training.ipynb**), you are welcome to tweak the value of `embed_size`.\n",
    "\n",
    "If you decide to modify the `EncoderCNN` class, save **model.py** and re-execute the code cell above.  If the code cell returns an assertion error, then please follow the instructions to modify your code before proceeding.  The assert statements ensure that `features` is a PyTorch tensor with shape `[batch_size, embed_size]`."
   ]
  },
  {
   "cell_type": "markdown",
   "metadata": {},
   "source": [
    "<a id='step4'></a>\n",
    "## Step 4: Implement the RNN Decoder\n",
    "\n",
    "Before executing the next code cell, you must write `__init__` and `forward` methods in the `DecoderRNN` class in **model.py**.  (Do **not** write the `sample` method yet - you will work with this method when you reach **3_Inference.ipynb**.)\n",
    "\n",
    "> The `__init__` and `forward` methods in the `DecoderRNN` class are the only things that you **need** to modify as part of this notebook.  You will write more implementations in the notebooks that appear later in the sequence.\n",
    "\n",
    "Your decoder will be an instance of the `DecoderRNN` class and must accept as input:\n",
    "- the PyTorch tensor `features` containing the embedded image features (outputted in Step 3, when the last batch of images from Step 2 was passed through `encoder`), along with\n",
    "- a PyTorch tensor corresponding to the last batch of captions (`captions`) from Step 2.\n",
    "\n",
    "Note that the way we have written the data loader should simplify your code a bit.  In particular, every training batch will contain pre-processed captions where all have the same length (`captions.shape[1]`), so **you do not need to worry about padding**.  \n",
    "> While you are encouraged to implement the decoder described in [this paper](https://arxiv.org/pdf/1411.4555.pdf), you are welcome to implement any architecture of your choosing, as long as it uses at least one RNN layer, with hidden dimension `hidden_size`.  \n",
    "\n",
    "Although you will test the decoder using the last batch that is currently stored in the notebook, your decoder should be written to accept an arbitrary batch (of embedded image features and pre-processed captions [where all captions have the same length]) as input.  \n",
    "\n",
    "![A diagram illustrating the structure of the RNN decoder for an image captioning model. The embedded image feature vector is passed into an LSTM network, which sequentially predicts words from a vocabulary. Each LSTM output is processed through a linear layer to generate scores for each word in the vocabulary, predicting the next word in the caption sequence. The example shows the output as: 'A man holding a slice of pizza.'](images/decoder.png)\n",
    "\n",
    "In the code cell below, `outputs` should be a PyTorch tensor with size `[batch_size, captions.shape[1], vocab_size]`. Your output should be designed such that `outputs[i,j,k]` contains the model's predicted score, indicating how likely the `j`-th token in the `i`-th caption in the batch is the `k`-th token in the vocabulary.  In the next notebook of the sequence (**2_Training.ipynb**), we provide code to supply these scores to the [`torch.nn.CrossEntropyLoss`](http://pytorch.org/docs/master/nn.html#torch.nn.CrossEntropyLoss) optimizer in PyTorch."
   ]
  },
  {
   "cell_type": "code",
   "execution_count": 24,
   "metadata": {},
   "outputs": [
    {
     "name": "stdout",
     "output_type": "stream",
     "text": [
      "type(outputs): <class 'torch.Tensor'>\n",
      "outputs.shape: torch.Size([10, 16, 11543])\n"
     ]
    }
   ],
   "source": [
    "# Before executing the next code cell, you must write __init__ and forward methods in the DecoderRNN class in model.py.\n",
    "\n",
    "# Specify the number of features in the hidden state of the RNN decoder.\n",
    "hidden_size = 512\n",
    "\n",
    "#-#-#-# Do NOT modify the code below this line. #-#-#-#\n",
    "\n",
    "# Store the size of the vocabulary.\n",
    "vocab_size = len(data_loader.dataset.vocab)\n",
    "\n",
    "# Initialize the decoder.\n",
    "decoder = DecoderRNN(embed_size, hidden_size, vocab_size, batch_size=batch_size)\n",
    "\n",
    "# Move the decoder to GPU if CUDA is available.\n",
    "decoder.to(device)\n",
    "    \n",
    "# Move last batch of captions (from Step 1) to GPU if CUDA is available \n",
    "captions = captions.to(device)\n",
    "\n",
    "\n",
    "# Pass the encoder output and captions through the decoder.\n",
    "outputs = decoder(features, captions)\n",
    "\n",
    "print('type(outputs):', type(outputs))\n",
    "print('outputs.shape:', outputs.shape)\n",
    "\n",
    "# print('features.shape', features.shape)\n",
    "# print('features', features)\n",
    "\n",
    "# print('captions.shape', captions.shape)\n",
    "# print('captions', captions)\n",
    "\n",
    "# print('batch_size, vocab_size embed_size ', batch_size, vocab_size, embed_size)\n",
    "# print('outputs', outputs)\n",
    "# Check that your decoder satisfies some requirements of the project! :D\n",
    "\n",
    "assert type(outputs)==torch.Tensor, \"Decoder output needs to be a PyTorch Tensor.\"\n",
    "assert (outputs.shape[0]==batch_size) & (outputs.shape[1]==captions.shape[1]) & (outputs.shape[2]==vocab_size), \"The shape of the decoder output is incorrect.\""
   ]
  },
  {
   "cell_type": "markdown",
   "metadata": {},
   "source": [
    "When you train your model in the next notebook in this sequence (**2_Training.ipynb**), you are welcome to tweak the value of `hidden_size`."
   ]
  }
 ],
 "metadata": {
  "anaconda-cloud": {},
  "kernelspec": {
   "display_name": "Python 3 (ipykernel)",
   "language": "python",
   "name": "python3"
  },
  "language_info": {
   "codemirror_mode": {
    "name": "ipython",
    "version": 3
   },
   "file_extension": ".py",
   "mimetype": "text/x-python",
   "name": "python",
   "nbconvert_exporter": "python",
   "pygments_lexer": "ipython3",
   "version": "3.11.11"
  }
 },
 "nbformat": 4,
 "nbformat_minor": 4
}
